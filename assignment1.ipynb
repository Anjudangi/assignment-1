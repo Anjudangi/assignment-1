{
 "cells": [
  {
   "cell_type": "markdown",
   "id": "e3ed898b-3b3c-4080-bb9f-cec2664627cb",
   "metadata": {},
   "source": [
    "Q.1 create one variable containing following types of data:\n",
    "    (1) string\n",
    "    (2) list\n",
    "    (3) float\n",
    "    (4) tuple"
   ]
  },
  {
   "cell_type": "code",
   "execution_count": 13,
   "id": "2bd73780-231e-45f6-bc89-bc20ea959a31",
   "metadata": {},
   "outputs": [],
   "source": [
    "v1=\"string\""
   ]
  },
  {
   "cell_type": "code",
   "execution_count": 14,
   "id": "c193755b-91f7-48d1-8d40-0667418c4208",
   "metadata": {},
   "outputs": [
    {
     "data": {
      "text/plain": [
       "str"
      ]
     },
     "execution_count": 14,
     "metadata": {},
     "output_type": "execute_result"
    }
   ],
   "source": [
    "type(v1)"
   ]
  },
  {
   "cell_type": "code",
   "execution_count": 3,
   "id": "bbbe6f50-ce99-40dc-9c84-e96edf6d08e1",
   "metadata": {},
   "outputs": [],
   "source": [
    "v1=[1,2,3,3,4,4,5,5]"
   ]
  },
  {
   "cell_type": "code",
   "execution_count": 5,
   "id": "777fcca3-70a3-4ff0-827e-cc9acba4c0b0",
   "metadata": {},
   "outputs": [
    {
     "data": {
      "text/plain": [
       "list"
      ]
     },
     "execution_count": 5,
     "metadata": {},
     "output_type": "execute_result"
    }
   ],
   "source": [
    "type(v1)"
   ]
  },
  {
   "cell_type": "code",
   "execution_count": 6,
   "id": "0a95baab-400c-4715-8700-e4194435affd",
   "metadata": {},
   "outputs": [],
   "source": [
    "v1=45.34"
   ]
  },
  {
   "cell_type": "code",
   "execution_count": 7,
   "id": "5391d603-7712-4c34-8b79-868534d7a3a3",
   "metadata": {},
   "outputs": [
    {
     "data": {
      "text/plain": [
       "float"
      ]
     },
     "execution_count": 7,
     "metadata": {},
     "output_type": "execute_result"
    }
   ],
   "source": [
    "type(v1)"
   ]
  },
  {
   "cell_type": "code",
   "execution_count": 12,
   "id": "78989e31-62b9-4d09-aa8b-7d91d47444d5",
   "metadata": {},
   "outputs": [],
   "source": [
    "v1=(\"anju\",\"a\",12,334,\"@\",\"%\",1+3)"
   ]
  },
  {
   "cell_type": "code",
   "execution_count": 13,
   "id": "3fd41255-70d1-4706-ad58-fcec29f1e664",
   "metadata": {},
   "outputs": [
    {
     "data": {
      "text/plain": [
       "tuple"
      ]
     },
     "execution_count": 13,
     "metadata": {},
     "output_type": "execute_result"
    }
   ],
   "source": [
    "type(v1)"
   ]
  },
  {
   "cell_type": "markdown",
   "id": "8b5f6fbb-f7d0-43c3-87de-1bce71019d95",
   "metadata": {},
   "source": [
    "Q.2 given are some following variable containing data:\n",
    "    (1) var1=' '\n",
    "    (2) var2='[DS,ML,PYTHON]'\n",
    "    (3) var3=['DS','ML','PYTHON']\n",
    "    (4) Var4=1.\n",
    "    what will be the data types of the above given variable."
   ]
  },
  {
   "cell_type": "markdown",
   "id": "8ef86a4e-c148-4c48-984b-2282dbf36d9a",
   "metadata": {},
   "source": [
    "var1=' '    # string data type\n",
    "var2='['DS',ML,PYTHON]'    #String data type\n",
    "var3=['DS','ML','PYTHON']    #list data type\n",
    "var4-1.    #int data type"
   ]
  },
  {
   "cell_type": "markdown",
   "id": "781da51b-c423-4c84-b251-6d2c09b213ef",
   "metadata": {},
   "source": [
    "Q.3 EXPLAIN THE USE OF FOLLOWING TYPES OF OPERATORS AN EXAMPLE.\n",
    "(1)/\n",
    "(2) %\n",
    "(3) //\n",
    "(4) **"
   ]
  },
  {
   "cell_type": "code",
   "execution_count": 31,
   "id": "d832d30d-2824-41fa-a99a-b4b87723ae69",
   "metadata": {},
   "outputs": [
    {
     "data": {
      "text/plain": [
       "1.3333333333333333"
      ]
     },
     "execution_count": 31,
     "metadata": {},
     "output_type": "execute_result"
    }
   ],
   "source": [
    "8/6"
   ]
  },
  {
   "cell_type": "code",
   "execution_count": 1,
   "id": "fcfc7512-7cb4-49c7-bbf9-b24d877f3e06",
   "metadata": {},
   "outputs": [
    {
     "data": {
      "text/plain": [
       "11.5"
      ]
     },
     "execution_count": 1,
     "metadata": {},
     "output_type": "execute_result"
    }
   ],
   "source": [
    "23/2"
   ]
  },
  {
   "cell_type": "code",
   "execution_count": 2,
   "id": "2a3421d5-929a-4fb6-9097-66365bf759a6",
   "metadata": {},
   "outputs": [
    {
     "data": {
      "text/plain": [
       "1"
      ]
     },
     "execution_count": 2,
     "metadata": {},
     "output_type": "execute_result"
    }
   ],
   "source": [
    "43%2"
   ]
  },
  {
   "cell_type": "code",
   "execution_count": 3,
   "id": "4b7c6381-2e09-4ceb-88ea-d84ae1ade074",
   "metadata": {},
   "outputs": [
    {
     "data": {
      "text/plain": [
       "10"
      ]
     },
     "execution_count": 3,
     "metadata": {},
     "output_type": "execute_result"
    }
   ],
   "source": [
    "234//23"
   ]
  },
  {
   "cell_type": "code",
   "execution_count": 4,
   "id": "8e4a93e6-29c4-40a1-9a6e-4775be8e13cd",
   "metadata": {},
   "outputs": [
    {
     "data": {
      "text/plain": [
       "9"
      ]
     },
     "execution_count": 4,
     "metadata": {},
     "output_type": "execute_result"
    }
   ],
   "source": [
    "3**2"
   ]
  },
  {
   "cell_type": "code",
   "execution_count": null,
   "id": "d3a16e82-e13d-46c6-b19b-75c42cda87e7",
   "metadata": {},
   "outputs": [],
   "source": [
    "Q.4 CREATE A LIST OF LENGTH 10 OF YOUR CHOICE CONTAINING MULTIPLE TYPES OF DATA .USING FOR LOOP PRINT THE ELEMENT AND ITS DATA TYPE."
   ]
  },
  {
   "cell_type": "code",
   "execution_count": 18,
   "id": "6db80ab6-9323-4e47-b0ff-d6dde60844b6",
   "metadata": {},
   "outputs": [],
   "source": [
    "l=[1,2,34.43,'anju','dangi',53,43,56,75,7575,]"
   ]
  },
  {
   "cell_type": "code",
   "execution_count": 19,
   "id": "fbd071ac-0582-4ae0-8620-4acddc46eb79",
   "metadata": {},
   "outputs": [
    {
     "data": {
      "text/plain": [
       "[1, 2, 34.43, 'anju', 'dangi', 53, 43, 56, 75, 7575]"
      ]
     },
     "execution_count": 19,
     "metadata": {},
     "output_type": "execute_result"
    }
   ],
   "source": [
    "l"
   ]
  },
  {
   "cell_type": "code",
   "execution_count": 20,
   "id": "8a3dd587-55af-4f8e-acc8-8a4cc618f324",
   "metadata": {},
   "outputs": [
    {
     "data": {
      "text/plain": [
       "10"
      ]
     },
     "execution_count": 20,
     "metadata": {},
     "output_type": "execute_result"
    }
   ],
   "source": [
    "len(l)"
   ]
  },
  {
   "cell_type": "code",
   "execution_count": 21,
   "id": "92f1e5d0-2ee9-4d45-90d6-4d1f993cd9e6",
   "metadata": {},
   "outputs": [
    {
     "data": {
      "text/plain": [
       "list"
      ]
     },
     "execution_count": 21,
     "metadata": {},
     "output_type": "execute_result"
    }
   ],
   "source": [
    "type(l)"
   ]
  },
  {
   "cell_type": "code",
   "execution_count": 29,
   "id": "bf4dcdd6-4b79-4f66-b09d-a2e8f74155dc",
   "metadata": {},
   "outputs": [
    {
     "name": "stdout",
     "output_type": "stream",
     "text": [
      "1\n",
      "2\n",
      "34.43\n",
      "anju\n",
      "dangi\n",
      "53\n",
      "43\n",
      "56\n",
      "75\n",
      "7575\n"
     ]
    }
   ],
   "source": [
    "for i in l:\n",
    "    print(i)"
   ]
  },
  {
   "cell_type": "markdown",
   "id": "3aed4258-7566-4039-a6b9-1e4e4b4211c0",
   "metadata": {},
   "source": [
    "Q.5 USING A WHILE LOOP VERIFY IF THE NUMBER A IS PURELY DIVISIBLE BY NUMBER B AND IF SO THEN HOW MANY TIMES IT CAN DIVISIBLE. "
   ]
  },
  {
   "cell_type": "code",
   "execution_count": 33,
   "id": "176ba2c1-5b7b-4235-a34c-d62a39302f2d",
   "metadata": {},
   "outputs": [],
   "source": [
    "def isdivisible(n):\n",
    "    temp=n\n",
    "    while(n):\n",
    "        k=n%10\n",
    "        if(temp%k==0):\n",
    "            return \"yes\"\n",
    "        n/=10\n",
    "        return \"no\"\n",
    "    isdivisible(200)\n",
    "    print(isdivisible(n))"
   ]
  },
  {
   "cell_type": "markdown",
   "id": "a9a6fbf5-ba98-490b-a0e0-8f6f863194da",
   "metadata": {},
   "source": [
    "Q.6 create a list containing 25 int type data .using for loop and if else condition print if the elements is divisible by 3 or not."
   ]
  },
  {
   "cell_type": "code",
   "execution_count": 12,
   "id": "de15d001-81da-4b7d-a520-6f9a16d48ffa",
   "metadata": {},
   "outputs": [],
   "source": [
    "l=[23,34,54,55,34,54,67,88,99,100,77,33,44,56,54,97878,65,600,12,34,56,67,78,897,56,]"
   ]
  },
  {
   "cell_type": "code",
   "execution_count": 13,
   "id": "ce015e78-5a8e-471e-bbac-3f5c68ae6f40",
   "metadata": {},
   "outputs": [
    {
     "data": {
      "text/plain": [
       "list"
      ]
     },
     "execution_count": 13,
     "metadata": {},
     "output_type": "execute_result"
    }
   ],
   "source": [
    "type(l)"
   ]
  },
  {
   "cell_type": "code",
   "execution_count": 14,
   "id": "fde7cb66-a067-48a7-b8e0-0072588c1050",
   "metadata": {},
   "outputs": [
    {
     "data": {
      "text/plain": [
       "25"
      ]
     },
     "execution_count": 14,
     "metadata": {},
     "output_type": "execute_result"
    }
   ],
   "source": [
    "len(l)"
   ]
  },
  {
   "cell_type": "code",
   "execution_count": 46,
   "id": "e30923a3-fcfd-4c16-b12f-c08d7487f4e5",
   "metadata": {},
   "outputs": [
    {
     "name": "stdout",
     "output_type": "stream",
     "text": [
      "23 not divisible by 3\n",
      "34 not divisible by 3\n",
      "54 divisible by 3\n",
      "55 not divisible by 3\n",
      "34 not divisible by 3\n",
      "54 divisible by 3\n",
      "67 not divisible by 3\n",
      "88 not divisible by 3\n",
      "99 divisible by 3\n",
      "100 not divisible by 3\n",
      "77 not divisible by 3\n",
      "33 divisible by 3\n",
      "44 not divisible by 3\n",
      "56 not divisible by 3\n",
      "54 divisible by 3\n",
      "97878 divisible by 3\n",
      "65 not divisible by 3\n",
      "600 divisible by 3\n",
      "12 divisible by 3\n",
      "34 not divisible by 3\n",
      "56 not divisible by 3\n",
      "67 not divisible by 3\n",
      "78 divisible by 3\n",
      "897 divisible by 3\n",
      "56 not divisible by 3\n"
     ]
    }
   ],
   "source": [
    "for i in l:\n",
    "    if((i%3==0)):\n",
    "      print((i),\"divisible by 3\")\n",
    "    else:\n",
    "        print((i),\"not divisible by 3\")\n",
    "    "
   ]
  },
  {
   "cell_type": "markdown",
   "id": "86951881-3d70-4ae0-95d1-b8ae0d83428a",
   "metadata": {},
   "source": [
    "Q.7  WHAT DO YOU UNDAERSTAND MUTABLE AND IMMUTABLE DATA TYPES? GIVE EXAMPLE FOR BOTH THIS PROPERTY."
   ]
  },
  {
   "cell_type": "code",
   "execution_count": null,
   "id": "75deffa7-5d7b-4e69-8022-f4c1481a887b",
   "metadata": {},
   "outputs": [],
   "source": [
    "MUTABLE DATA TYPES:- mutable data types in python are those whose value can be changed in place after they have been created."
   ]
  },
  {
   "cell_type": "code",
   "execution_count": 47,
   "id": "163d6acf-e362-43ff-871d-1abdecdbbee5",
   "metadata": {},
   "outputs": [],
   "source": [
    "l=[2,3,4,5,\"anju\",\"dangi\",4,4,5,]"
   ]
  },
  {
   "cell_type": "code",
   "execution_count": 64,
   "id": "d312c9b5-2a75-4b6b-8ff5-ad5908b9910d",
   "metadata": {},
   "outputs": [
    {
     "data": {
      "text/plain": [
       "list"
      ]
     },
     "execution_count": 64,
     "metadata": {},
     "output_type": "execute_result"
    }
   ],
   "source": [
    "type(l)"
   ]
  },
  {
   "cell_type": "code",
   "execution_count": 65,
   "id": "f94e245d-fe53-4331-b563-c44fbdae819c",
   "metadata": {},
   "outputs": [],
   "source": [
    "l[5]=\"string\""
   ]
  },
  {
   "cell_type": "code",
   "execution_count": 66,
   "id": "88b6d8c0-ec0c-467c-ad11-eafb4c8fa280",
   "metadata": {},
   "outputs": [
    {
     "data": {
      "text/plain": [
       "[2, 3, 4, 5, 'anju', 'string', 4, 4, 5]"
      ]
     },
     "execution_count": 66,
     "metadata": {},
     "output_type": "execute_result"
    }
   ],
   "source": [
    "l"
   ]
  },
  {
   "cell_type": "markdown",
   "id": "731147e7-ac45-4033-b59c-d90d8abd010b",
   "metadata": {},
   "source": [
    "IMMUTABLE DATA TYPES:- Immutable is the when no change is possible over time.in python ,if the value of an object cannot be changed\n",
    "changed over time ,then it is known as immutable data ."
   ]
  },
  {
   "cell_type": "code",
   "execution_count": 70,
   "id": "183feb93-0aa7-4a1c-ac41-dd79e3dbfc3d",
   "metadata": {},
   "outputs": [],
   "source": [
    "t=(5,'program',1+3)"
   ]
  },
  {
   "cell_type": "code",
   "execution_count": 71,
   "id": "8a621380-d86d-49e8-ad37-f4f32d9dddf1",
   "metadata": {},
   "outputs": [
    {
     "data": {
      "text/plain": [
       "tuple"
      ]
     },
     "execution_count": 71,
     "metadata": {},
     "output_type": "execute_result"
    }
   ],
   "source": [
    "type(t)"
   ]
  },
  {
   "cell_type": "code",
   "execution_count": null,
   "id": "f00869a3-8b37-48aa-9d65-cbbefe2be5b0",
   "metadata": {},
   "outputs": [],
   "source": [
    "t[1]=30    3"
   ]
  }
 ],
 "metadata": {
  "kernelspec": {
   "display_name": "Python 3 (ipykernel)",
   "language": "python",
   "name": "python3"
  },
  "language_info": {
   "codemirror_mode": {
    "name": "ipython",
    "version": 3
   },
   "file_extension": ".py",
   "mimetype": "text/x-python",
   "name": "python",
   "nbconvert_exporter": "python",
   "pygments_lexer": "ipython3",
   "version": "3.10.8"
  }
 },
 "nbformat": 4,
 "nbformat_minor": 5
}
