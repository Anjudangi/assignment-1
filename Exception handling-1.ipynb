{
 "cells": [
  {
   "cell_type": "markdown",
   "id": "8298046b-e7b9-4d31-a281-0da91a33f765",
   "metadata": {},
   "source": [
    "# Q1. What is an Exception in python? Write the difference between Exceptions and Syntax errors."
   ]
  },
  {
   "cell_type": "markdown",
   "id": "c7cc0608-897c-4fd5-96db-0cc0f4c0cd89",
   "metadata": {},
   "source": [
    " Ans.1 An exception in Python is an event that occurs during the execution of a program that disrupts its normal flow. It typically happens when the program encounters an error that it cannot handle, such as dividing by zero, trying to access a file that doesn't exist, or using an invalid index in a list.\n",
    "\n",
    "Python provides a way to handle exceptions using try, except, else, and finally blocks to prevent the program from crashing."
   ]
  },
  {
   "cell_type": "markdown",
   "id": "feb52bfc-a497-452d-8cb7-b041d47d4ff5",
   "metadata": {},
   "source": [
    "# Q2. What happens when an exception is not handled? Explain with an example."
   ]
  },
  {
   "cell_type": "markdown",
   "id": "2ed6f596-a710-4587-bb56-af1000ae8e40",
   "metadata": {},
   "source": [
    " Ans.2 What Happens When an Exception is Not Handled?\n",
    "If an exception is not handled in Python, the program stops executing immediately and displays a detailed error message called a traceback. This traceback shows the type of exception, the line of code where it occurred, and the sequence of function calls leading to the error."
   ]
  },
  {
   "cell_type": "markdown",
   "id": "31789be8-0322-4372-9296-2831892c956d",
   "metadata": {},
   "source": [
    "# Q3. Which Python statements are used to catch and handle exceptions? Explain with an example."
   ]
  },
  {
   "cell_type": "markdown",
   "id": "10e32739-6d8e-4fbc-957f-127edc0787fb",
   "metadata": {},
   "source": [
    "# Ans.3 Python Statements to Catch and Handle Exceptions\n",
    "In Python, you can catch and handle exceptions using the following statements:\n",
    "\n",
    "try Block: This is where you write the code that might raise an exception.\n",
    "except Block: This catches and handles the exception. You can specify the type of exception to handle specific errors.\n",
    "else Block (Optional): Executes code if no exceptions were raised in the try block.\n",
    "finally Block (Optional): Executes code regardless of whether an exception occurred or not, often used for cleanup. \n",
    "\n",
    "Explanation:\n",
    "try Block: The code inside the try block (int(input()) and 10 / num) might raise exceptions.\n",
    "except Block: If a ValueError (invalid input) or ZeroDivisionError (division by zero) occurs, the appropriate except block will handle it.\n",
    "else Block: If no exceptions occur, the else block runs and prints the result.\n",
    "finally Block: Runs whether or not an exception occurs, ensuring that cleanup or final actions are always performed."
   ]
  },
  {
   "cell_type": "markdown",
   "id": "6b8df5d6-500a-4027-8555-3f8d19b7a740",
   "metadata": {},
   "source": [
    "# Q4. Explain with an example: #try and else  #finall #raise"
   ]
  },
  {
   "cell_type": "markdown",
   "id": "9d97d299-587e-402d-aaac-863ada9ead0d",
   "metadata": {},
   "source": [
    "# Ans.4 Explanation of try, else, finally, and raise in Python\n",
    "Python provides robust error handling using try, else, finally, and raise. Let’s explore each with an example:\n",
    "\n",
    "1. try and else\n",
    "try Block: Used to write the code that might raise an exception.\n",
    "else Block: Executes only if no exception occurs in the try block."
   ]
  },
  {
   "cell_type": "code",
   "execution_count": 1,
   "id": "e8fff698-c4a4-42fc-ac53-3b964bd0b29c",
   "metadata": {},
   "outputs": [
    {
     "name": "stdin",
     "output_type": "stream",
     "text": [
      "Enter a number:  3\n"
     ]
    },
    {
     "name": "stdout",
     "output_type": "stream",
     "text": [
      "Result is: 3.3333333333333335\n"
     ]
    }
   ],
   "source": [
    "try:\n",
    "    num = int(input(\"Enter a number: \"))\n",
    "    result = 10 / num\n",
    "except ZeroDivisionError:\n",
    "    print(\"You cannot divide by zero!\")\n",
    "except ValueError:\n",
    "    print(\"Invalid input! Please enter a valid number.\")\n",
    "else:\n",
    "    print(\"Result is:\", result)  # Executes only if no exceptions occur.\n"
   ]
  },
  {
   "cell_type": "markdown",
   "id": "1a52b6d3-417e-4fa5-92f4-f42f461992b4",
   "metadata": {},
   "source": [
    "finally\n",
    "finally Block: Executes no matter what—whether an exception occurs or not.\n",
    "Commonly used for cleanup actions like closing files or releasing resources.\n"
   ]
  },
  {
   "cell_type": "code",
   "execution_count": 2,
   "id": "15a35393-b420-4e9c-9660-6b18722138e9",
   "metadata": {},
   "outputs": [
    {
     "name": "stdin",
     "output_type": "stream",
     "text": [
      "Enter a number:  4\n"
     ]
    },
    {
     "name": "stdout",
     "output_type": "stream",
     "text": [
      "This message always displays, no matter what.\n"
     ]
    }
   ],
   "source": [
    "try:\n",
    "    num = int(input(\"Enter a number: \"))\n",
    "    result = 10 / num\n",
    "except ZeroDivisionError:\n",
    "    print(\"You cannot divide by zero!\")\n",
    "except ValueError:\n",
    "    print(\"Invalid input! Please enter a valid number.\")\n",
    "finally:\n",
    "    print(\"This message always displays, no matter what.\")\n"
   ]
  },
  {
   "cell_type": "markdown",
   "id": "8bdc1748-d078-4233-96de-4bb54877730f",
   "metadata": {},
   "source": [
    "raise\n",
    "Used to manually raise an exception. You can also provide a custom error message.\n",
    "Often combined with conditional checks to enforce rules or constraints.\n"
   ]
  },
  {
   "cell_type": "code",
   "execution_count": 3,
   "id": "eda7e0e4-9ff8-4b26-96e4-3d2e94f2fa02",
   "metadata": {},
   "outputs": [
    {
     "name": "stdin",
     "output_type": "stream",
     "text": [
      "Enter your age:  55\n"
     ]
    },
    {
     "name": "stdout",
     "output_type": "stream",
     "text": [
      "Your age is 55.\n",
      "Execution complete.\n"
     ]
    }
   ],
   "source": [
    "try:\n",
    "    age = int(input(\"Enter your age: \"))\n",
    "    if age < 0:\n",
    "        raise ValueError(\"Age cannot be negative!\")\n",
    "except ValueError as e:\n",
    "    print(f\"Error: {e}\")\n",
    "else:\n",
    "    print(f\"Your age is {age}.\")\n",
    "finally:\n",
    "    print(\"Execution complete.\")\n"
   ]
  },
  {
   "cell_type": "markdown",
   "id": "d8b03737-dec6-4582-afca-5a340ecc593b",
   "metadata": {},
   "source": [
    "Key Points:\n",
    "try: Protects code that might fail.\n",
    "else: Runs if no exceptions occur.\n",
    "finally: Always executes, useful for cleanup.\n",
    "raise: Manually triggers exceptions."
   ]
  },
  {
   "cell_type": "markdown",
   "id": "99a7c9ef-a449-48b7-8374-13bd83484eac",
   "metadata": {},
   "source": [
    "# Q5. What are Custom Exceptions in python? Why do we need Custom Exceptions? Explain with an example."
   ]
  },
  {
   "cell_type": "markdown",
   "id": "f763066e-e913-4e13-ac04-b28d537d0248",
   "metadata": {},
   "source": [
    "# Ans.5 What Are Custom Exceptions in Python?\n",
    "Custom exceptions are user-defined exceptions that allow you to create specific error types for your application. These are helpful when the built-in exceptions do not sufficiently describe the error scenario in your code.\n",
    "\n",
    "Custom exceptions are defined by creating a new class that inherits from Python’s built-in Exception class (or its subclasses). They help make your code more readable and specific by naming and describing errors relevant to your domain.\n",
    "\n",
    "Why Do We Need Custom Exceptions?\n",
    "Improved Readability: They make it clear what went wrong by using specific exception names.\n",
    "Domain-Specific Errors: They allow you to define errors that are meaningful to your application (e.g., \"InvalidAgeError\" for an age validation system).\n",
    "Better Debugging: Easier to identify the root cause of errors with descriptive exception names.\n",
    "Granular Control: Enables you to handle application-specific errors separately.\n"
   ]
  },
  {
   "cell_type": "code",
   "execution_count": 4,
   "id": "6c17800e-0402-407e-a245-d73e7f2af1cd",
   "metadata": {},
   "outputs": [
    {
     "name": "stdin",
     "output_type": "stream",
     "text": [
      "Enter your age:  20\n"
     ]
    },
    {
     "name": "stdout",
     "output_type": "stream",
     "text": [
      "Valid age: 20\n",
      "Age validation complete.\n"
     ]
    }
   ],
   "source": [
    "# Define a custom exception\n",
    "class InvalidAgeError(Exception):\n",
    "    \"\"\"Custom exception raised for invalid ages.\"\"\"\n",
    "    def __init__(self, age, message=\"Age must be between 0 and 120\"):\n",
    "        self.age = age\n",
    "        self.message = message\n",
    "        super().__init__(self.message)\n",
    "\n",
    "# Using the custom exception\n",
    "def check_age(age):\n",
    "    if age < 0 or age > 120:\n",
    "        raise InvalidAgeError(age)\n",
    "    print(f\"Valid age: {age}\")\n",
    "\n",
    "# Example usage\n",
    "try:\n",
    "    age = int(input(\"Enter your age: \"))\n",
    "    check_age(age)\n",
    "except InvalidAgeError as e:\n",
    "    print(f\"InvalidAgeError: {e}\")\n",
    "except ValueError:\n",
    "    print(\"Invalid input! Please enter a number.\")\n",
    "finally:\n",
    "    print(\"Age validation complete.\")\n"
   ]
  },
  {
   "cell_type": "code",
   "execution_count": null,
   "id": "822cb0f1-b700-4050-9fad-2fd68b34dc7b",
   "metadata": {},
   "outputs": [],
   "source": []
  }
 ],
 "metadata": {
  "kernelspec": {
   "display_name": "Python 3 (ipykernel)",
   "language": "python",
   "name": "python3"
  },
  "language_info": {
   "codemirror_mode": {
    "name": "ipython",
    "version": 3
   },
   "file_extension": ".py",
   "mimetype": "text/x-python",
   "name": "python",
   "nbconvert_exporter": "python",
   "pygments_lexer": "ipython3",
   "version": "3.12.4"
  }
 },
 "nbformat": 4,
 "nbformat_minor": 5
}
